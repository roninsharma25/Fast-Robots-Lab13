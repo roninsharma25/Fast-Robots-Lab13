{
 "cells": [
  {
   "cell_type": "code",
   "execution_count": 1,
   "id": "b3543e69",
   "metadata": {},
   "outputs": [],
   "source": [
    "%load_ext autoreload\n",
    "%autoreload 2\n",
    "\n",
    "import traceback\n",
    "from notebook_utils import *\n",
    "from Traj import *\n",
    "import asyncio\n",
    "import pathlib\n",
    "import os\n",
    "from utils import load_config_params\n",
    "from localization_extras import Localization\n",
    "\n",
    "from ble import get_ble_controller\n",
    "from base_ble import LOG\n",
    "from cmd_types import CMD\n",
    "import numpy as np\n",
    "\n",
    "from funcs import *\n",
    "from robotClass import *"
   ]
  },
  {
   "cell_type": "code",
   "execution_count": null,
   "id": "69ca2eac",
   "metadata": {},
   "outputs": [],
   "source": []
  },
  {
   "cell_type": "code",
   "execution_count": null,
   "id": "f3508ec6",
   "metadata": {},
   "outputs": [],
   "source": [
    "# turn dir\n",
    "    # 0: counter clockwise\n",
    "    # 1: clockwise"
   ]
  },
  {
   "cell_type": "code",
   "execution_count": 44,
   "id": "6a655b13",
   "metadata": {},
   "outputs": [],
   "source": [
    "FORWARD_SPEED = 180\n",
    "BACKWARD_SPEED = 180"
   ]
  },
  {
   "cell_type": "code",
   "execution_count": null,
   "id": "d51ee194",
   "metadata": {},
   "outputs": [],
   "source": []
  },
  {
   "cell_type": "code",
   "execution_count": null,
   "id": "4469684b",
   "metadata": {},
   "outputs": [],
   "source": []
  },
  {
   "cell_type": "code",
   "execution_count": 43,
   "id": "6ba490e7",
   "metadata": {},
   "outputs": [
    {
     "name": "stdout",
     "output_type": "stream",
     "text": [
      "2022-05-19 22:59:42,783 |\u001b[32m INFO     \u001b[0m|: Already connected to a BLE device\n"
     ]
    }
   ],
   "source": [
    "rc = setupRobot()"
   ]
  },
  {
   "cell_type": "code",
   "execution_count": 47,
   "id": "bae3eb95",
   "metadata": {},
   "outputs": [],
   "source": [
    "rc.turn(FORWARD_SPEED, BACKWARD_SPEED, 0, 90, delta = 30)"
   ]
  },
  {
   "cell_type": "code",
   "execution_count": 49,
   "id": "88ac58a1",
   "metadata": {},
   "outputs": [],
   "source": [
    "rc.turn(FORWARD_SPEED, BACKWARD_SPEED, 0, 45, delta = 20)"
   ]
  },
  {
   "cell_type": "code",
   "execution_count": 51,
   "id": "cc3b649b",
   "metadata": {},
   "outputs": [],
   "source": [
    "rc.turn(FORWARD_SPEED, BACKWARD_SPEED, 0, 30, delta = 10)"
   ]
  },
  {
   "cell_type": "code",
   "execution_count": null,
   "id": "94593a7f",
   "metadata": {},
   "outputs": [],
   "source": []
  },
  {
   "cell_type": "code",
   "execution_count": 34,
   "id": "396767f2",
   "metadata": {},
   "outputs": [
    {
     "name": "stdout",
     "output_type": "stream",
     "text": [
      "2022-05-19 22:50:40,107 |\u001b[32m INFO     \u001b[0m|: Disconnected from CDA1A256-991A-774B-DB12-7C324EDA8C53\n"
     ]
    }
   ],
   "source": [
    "rc.updatePID(200, 0.35, 0.95, PIDbuffer = 100)"
   ]
  },
  {
   "cell_type": "code",
   "execution_count": 22,
   "id": "4b5e1eb9",
   "metadata": {},
   "outputs": [
    {
     "name": "stdout",
     "output_type": "stream",
     "text": [
      "2022-05-19 22:27:49,328 |\u001b[32m INFO     \u001b[0m|: Disconnected from CDA1A256-991A-774B-DB12-7C324EDA8C53\n"
     ]
    }
   ],
   "source": [
    "rc.stop()"
   ]
  },
  {
   "cell_type": "code",
   "execution_count": null,
   "id": "2670242f",
   "metadata": {},
   "outputs": [],
   "source": []
  },
  {
   "cell_type": "code",
   "execution_count": null,
   "id": "5db1b4a1",
   "metadata": {},
   "outputs": [],
   "source": []
  },
  {
   "cell_type": "markdown",
   "id": "53f96057",
   "metadata": {},
   "source": [
    "### Mapping"
   ]
  },
  {
   "cell_type": "code",
   "execution_count": null,
   "id": "b227fdc9",
   "metadata": {},
   "outputs": [],
   "source": [
    "FORWARD_SPEED = 180\n",
    "BACKWARD_SPEED = 180"
   ]
  },
  {
   "cell_type": "code",
   "execution_count": 148,
   "id": "845992c4",
   "metadata": {},
   "outputs": [
    {
     "name": "stdout",
     "output_type": "stream",
     "text": [
      "2022-05-20 00:13:11,149 |\u001b[32m INFO     \u001b[0m|: Looking for Artemis Nano Peripheral Device: C0:83:A5:6D:80:3C\n",
      "2022-05-20 00:13:13,891 |\u001b[32m INFO     \u001b[0m|: Connected to C0:83:A5:6D:80:3C\n"
     ]
    }
   ],
   "source": [
    "rc = setupRobot()"
   ]
  },
  {
   "cell_type": "markdown",
   "id": "764b79df",
   "metadata": {},
   "source": [
    "1 to 2"
   ]
  },
  {
   "cell_type": "code",
   "execution_count": 149,
   "id": "ddc027f7",
   "metadata": {},
   "outputs": [],
   "source": [
    "# move forward\n",
    "rc.updatePID(300, 0.35, 0.75, PIDbuffer = 300)"
   ]
  },
  {
   "cell_type": "code",
   "execution_count": 150,
   "id": "9e0190be",
   "metadata": {},
   "outputs": [],
   "source": [
    "# turn right 90 degrees\n",
    "rc.turn(FORWARD_SPEED, BACKWARD_SPEED, 1, 90, delta = 50)"
   ]
  },
  {
   "cell_type": "markdown",
   "id": "30f5e21a",
   "metadata": {},
   "source": [
    "2 to 3"
   ]
  },
  {
   "cell_type": "code",
   "execution_count": 152,
   "id": "3836fbf6",
   "metadata": {},
   "outputs": [],
   "source": [
    "# move forward\n",
    "rc.updatePID(1800, 0.35, 0.75, PIDbuffer = 400)"
   ]
  },
  {
   "cell_type": "code",
   "execution_count": 153,
   "id": "8ae0c5ed",
   "metadata": {},
   "outputs": [],
   "source": [
    "# turn right 60 degrees\n",
    "rc.turn(FORWARD_SPEED, BACKWARD_SPEED, 1, 60, delta = 30)"
   ]
  },
  {
   "cell_type": "markdown",
   "id": "89d8ba7e",
   "metadata": {},
   "source": [
    "3 to 4"
   ]
  },
  {
   "cell_type": "code",
   "execution_count": 154,
   "id": "65691d42",
   "metadata": {},
   "outputs": [],
   "source": [
    "rc.updatePID(400, 0.35, 0.75, PIDbuffer = 200)"
   ]
  },
  {
   "cell_type": "code",
   "execution_count": 155,
   "id": "67347dd7",
   "metadata": {},
   "outputs": [],
   "source": [
    "# turn left 60 degrees\n",
    "rc.turn(FORWARD_SPEED, BACKWARD_SPEED, 0, 60, delta = 25)"
   ]
  },
  {
   "cell_type": "markdown",
   "id": "daf7d8d9",
   "metadata": {},
   "source": [
    "4 to 5"
   ]
  },
  {
   "cell_type": "code",
   "execution_count": 157,
   "id": "2819ac34",
   "metadata": {},
   "outputs": [],
   "source": [
    "# move forward\n",
    "rc.updatePID(500, 0.35, 0.75, PIDbuffer = 200)"
   ]
  },
  {
   "cell_type": "code",
   "execution_count": 158,
   "id": "e3c7dfba",
   "metadata": {},
   "outputs": [],
   "source": [
    "# turn left 90 degrees\n",
    "rc.turn(FORWARD_SPEED, BACKWARD_SPEED, 0, 90, delta = 35)"
   ]
  },
  {
   "cell_type": "markdown",
   "id": "8644f41a",
   "metadata": {},
   "source": [
    "5 to 6 to 7"
   ]
  },
  {
   "cell_type": "code",
   "execution_count": 160,
   "id": "cbc8508f",
   "metadata": {},
   "outputs": [],
   "source": [
    "# move forward\n",
    "rc.updatePID(600, 0.35, 0.75, PIDbuffer = 500)"
   ]
  },
  {
   "cell_type": "code",
   "execution_count": 161,
   "id": "c8085664",
   "metadata": {},
   "outputs": [],
   "source": [
    "# turn left 90 degrees\n",
    "rc.turn(FORWARD_SPEED, BACKWARD_SPEED, 0, 90, delta = 40)"
   ]
  },
  {
   "cell_type": "markdown",
   "id": "995c5e57",
   "metadata": {},
   "source": [
    "7 to 8"
   ]
  },
  {
   "cell_type": "code",
   "execution_count": 163,
   "id": "e0729b17",
   "metadata": {},
   "outputs": [],
   "source": [
    "# move forward\n",
    "rc.updatePID(900, 0.35, 0.75, PIDbuffer = 200)"
   ]
  },
  {
   "cell_type": "code",
   "execution_count": 164,
   "id": "2a56c29f",
   "metadata": {},
   "outputs": [],
   "source": [
    "# turn left 90 degrees\n",
    "rc.turn(FORWARD_SPEED, BACKWARD_SPEED, 0, 90, delta = 40)"
   ]
  },
  {
   "cell_type": "code",
   "execution_count": null,
   "id": "3dae4007",
   "metadata": {},
   "outputs": [],
   "source": [
    "# LOCALIZATION"
   ]
  },
  {
   "cell_type": "markdown",
   "id": "96bb9593",
   "metadata": {},
   "source": [
    "8 to 9"
   ]
  },
  {
   "cell_type": "code",
   "execution_count": 166,
   "id": "438544e9",
   "metadata": {},
   "outputs": [],
   "source": [
    "# move forward\n",
    "rc.updatePID(1200, 0.35, 0.75, PIDbuffer = 200)"
   ]
  },
  {
   "cell_type": "code",
   "execution_count": null,
   "id": "e8f8f502",
   "metadata": {},
   "outputs": [],
   "source": [
    "# LOCALIZATION"
   ]
  },
  {
   "cell_type": "code",
   "execution_count": 89,
   "id": "b4643a62",
   "metadata": {},
   "outputs": [
    {
     "name": "stdout",
     "output_type": "stream",
     "text": [
      "2022-05-19 23:05:59,186 |\u001b[32m INFO     \u001b[0m|: Disconnected from CDA1A256-991A-774B-DB12-7C324EDA8C53\n"
     ]
    }
   ],
   "source": [
    "rc.stop()"
   ]
  },
  {
   "cell_type": "code",
   "execution_count": null,
   "id": "711f788b",
   "metadata": {},
   "outputs": [],
   "source": []
  },
  {
   "cell_type": "code",
   "execution_count": null,
   "id": "6e6c6375",
   "metadata": {},
   "outputs": [],
   "source": []
  },
  {
   "cell_type": "code",
   "execution_count": null,
   "id": "bb5b1f3e",
   "metadata": {},
   "outputs": [],
   "source": []
  },
  {
   "cell_type": "code",
   "execution_count": null,
   "id": "370e2369",
   "metadata": {},
   "outputs": [],
   "source": []
  },
  {
   "cell_type": "markdown",
   "id": "aa5c7e86",
   "metadata": {},
   "source": [
    "### Localization"
   ]
  },
  {
   "cell_type": "code",
   "execution_count": 167,
   "id": "b787d3a2",
   "metadata": {},
   "outputs": [
    {
     "name": "stdout",
     "output_type": "stream",
     "text": [
      "2022-05-20 00:38:49,661 |\u001b[32m INFO     \u001b[0m|: Already connected to a BLE device\n"
     ]
    }
   ],
   "source": [
    "rc = setupRobot()"
   ]
  },
  {
   "cell_type": "code",
   "execution_count": 168,
   "id": "bf6de77a",
   "metadata": {},
   "outputs": [],
   "source": [
    "rc.turn360(250, 1000)"
   ]
  },
  {
   "cell_type": "code",
   "execution_count": 169,
   "id": "7a0fec87",
   "metadata": {},
   "outputs": [],
   "source": [
    "rc.stop()"
   ]
  },
  {
   "cell_type": "code",
   "execution_count": null,
   "id": "ab5a3cc0",
   "metadata": {},
   "outputs": [],
   "source": []
  }
 ],
 "metadata": {
  "kernelspec": {
   "display_name": "Python 3 (ipykernel)",
   "language": "python",
   "name": "python3"
  },
  "language_info": {
   "codemirror_mode": {
    "name": "ipython",
    "version": 3
   },
   "file_extension": ".py",
   "mimetype": "text/x-python",
   "name": "python",
   "nbconvert_exporter": "python",
   "pygments_lexer": "ipython3",
   "version": "3.10.4"
  }
 },
 "nbformat": 4,
 "nbformat_minor": 5
}
